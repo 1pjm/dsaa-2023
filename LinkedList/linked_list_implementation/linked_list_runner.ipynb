{
 "cells": [
  {
   "cell_type": "code",
   "execution_count": 3,
   "id": "296edbac-5f6f-4f56-911b-c15a7f5d95f6",
   "metadata": {},
   "outputs": [],
   "source": [
    "import teamlab_ds as ds\n",
    "import random"
   ]
  },
  {
   "cell_type": "code",
   "execution_count": 4,
   "id": "a888246f-822b-44ac-a4f1-d7585d229f74",
   "metadata": {},
   "outputs": [],
   "source": [
    "node_list = []\n",
    "for _ in range(5):\n",
    "    node_list.append(ds.Node(random.randint(1, 10000)))"
   ]
  },
  {
   "cell_type": "code",
   "execution_count": 5,
   "id": "53ca4ad7-daeb-44d1-927d-7bc00cb601e8",
   "metadata": {},
   "outputs": [
    {
     "data": {
      "text/plain": [
       "[Node(3672), Node(6071), Node(725), Node(330), Node(7557)]"
      ]
     },
     "execution_count": 5,
     "metadata": {},
     "output_type": "execute_result"
    }
   ],
   "source": [
    "node_list"
   ]
  },
  {
   "cell_type": "code",
   "execution_count": 6,
   "id": "8ebe711c-c01f-449b-ba79-a6c67c12bc0a",
   "metadata": {},
   "outputs": [],
   "source": [
    "for idx in range(1, len(node_list)):\n",
    "    node_list[idx-1] + node_list[idx]"
   ]
  },
  {
   "cell_type": "code",
   "execution_count": 7,
   "id": "4aec3380-d283-4dc6-bcb8-cb3ea83b49d0",
   "metadata": {},
   "outputs": [
    {
     "data": {
      "text/plain": [
       "Node(6071)"
      ]
     },
     "execution_count": 7,
     "metadata": {},
     "output_type": "execute_result"
    }
   ],
   "source": [
    "node_list[0].next"
   ]
  },
  {
   "cell_type": "code",
   "execution_count": 8,
   "id": "c8d506e8-4fd4-4cca-948c-998f3f5de9ff",
   "metadata": {},
   "outputs": [],
   "source": [
    "a = node_list[0]"
   ]
  },
  {
   "cell_type": "code",
   "execution_count": 9,
   "id": "edd6ddfd-587c-4af9-bc6d-2b06f20c6b7d",
   "metadata": {},
   "outputs": [
    {
     "name": "stdout",
     "output_type": "stream",
     "text": [
      "3672\n",
      "6071\n",
      "725\n",
      "330\n",
      "7557\n",
      "End of List\n"
     ]
    }
   ],
   "source": [
    "cur_node = a\n",
    "while cur_node is not None:\n",
    "    print(cur_node.data)\n",
    "    cur_node = cur_node.next\n",
    "else:\n",
    "    print(\"End of List\")\n"
   ]
  },
  {
   "cell_type": "code",
   "execution_count": 10,
   "id": "e7f3782a-0f15-44b2-b96e-500f9e7a18d5",
   "metadata": {},
   "outputs": [
    {
     "ename": "AttributeError",
     "evalue": "'NoneType' object has no attribute 'next'",
     "output_type": "error",
     "traceback": [
      "\u001b[1;31m---------------------------------------------------------------------------\u001b[0m",
      "\u001b[1;31mAttributeError\u001b[0m                            Traceback (most recent call last)",
      "Cell \u001b[1;32mIn[10], line 1\u001b[0m\n\u001b[1;32m----> 1\u001b[0m \u001b[43mcur_node\u001b[49m\u001b[38;5;241;43m.\u001b[39;49m\u001b[43mnext\u001b[49m\n",
      "\u001b[1;31mAttributeError\u001b[0m: 'NoneType' object has no attribute 'next'"
     ]
    }
   ],
   "source": [
    "cur_node.next"
   ]
  },
  {
   "cell_type": "code",
   "execution_count": 1,
   "id": "bc269e77-7997-45f8-ad65-b8c05d241b08",
   "metadata": {},
   "outputs": [
    {
     "data": {
      "text/plain": [
       "<module 'teamlab_ds' from 'c:\\\\Users\\\\samsung\\\\workspace\\\\dssa-2023\\\\LinkedList\\\\linked_list_implementation\\\\teamlab_ds.py'>"
      ]
     },
     "execution_count": 1,
     "metadata": {},
     "output_type": "execute_result"
    }
   ],
   "source": [
    "import teamlab_ds as ds\n",
    "from importlib import reload\n",
    "import random\n",
    "\n",
    "reload(ds)"
   ]
  },
  {
   "cell_type": "code",
   "execution_count": 24,
   "id": "aa883ca6-a190-4ea9-b8a8-f147c479c560",
   "metadata": {},
   "outputs": [],
   "source": [
    "a = ds.Node(10010)"
   ]
  },
  {
   "cell_type": "code",
   "execution_count": 25,
   "id": "d873f694-30f0-4655-9349-e3b569408b32",
   "metadata": {},
   "outputs": [],
   "source": [
    "my_bag = ds.LinkedListBag(a)"
   ]
  },
  {
   "cell_type": "code",
   "execution_count": 26,
   "id": "a7f548f6-5c40-494c-aaa2-e2b5a68e4620",
   "metadata": {},
   "outputs": [
    {
     "data": {
      "text/plain": [
       "Node(10010)"
      ]
     },
     "execution_count": 26,
     "metadata": {},
     "output_type": "execute_result"
    }
   ],
   "source": [
    "my_bag.head"
   ]
  },
  {
   "cell_type": "code",
   "execution_count": 2,
   "id": "c90e751e-286d-4eb1-bcb0-173233ccd637",
   "metadata": {},
   "outputs": [],
   "source": [
    "node_list = []\n",
    "for _ in range(5):\n",
    "    node_list.append(ds.Node(random.randint(1, 10000)))\n",
    "\n",
    "for idx in range(1, len(node_list)):\n",
    "    node_list[idx-1] + node_list[idx]"
   ]
  },
  {
   "cell_type": "code",
   "execution_count": 3,
   "id": "c7978574-93af-46a9-ac4c-f77140b1f3a8",
   "metadata": {},
   "outputs": [],
   "source": [
    "my_bag = ds.LinkedListBag(node_list[0])"
   ]
  },
  {
   "cell_type": "code",
   "execution_count": 4,
   "id": "4779cd6c",
   "metadata": {},
   "outputs": [
    {
     "data": {
      "text/plain": [
       "1877 -> 4321 -> 3724 -> 3341 -> 3648 -> End of Linked List"
      ]
     },
     "execution_count": 4,
     "metadata": {},
     "output_type": "execute_result"
    }
   ],
   "source": [
    "my_bag"
   ]
  },
  {
   "cell_type": "code",
   "execution_count": 56,
   "id": "0a625d0d-a5fa-4c6a-b01b-01c2842ae246",
   "metadata": {},
   "outputs": [
    {
     "data": {
      "text/plain": [
       "5"
      ]
     },
     "execution_count": 56,
     "metadata": {},
     "output_type": "execute_result"
    }
   ],
   "source": [
    "len(my_bag)"
   ]
  },
  {
   "cell_type": "code",
   "execution_count": 45,
   "id": "15d80fda-3eac-42c0-a54e-34280522361b",
   "metadata": {},
   "outputs": [
    {
     "data": {
      "text/plain": [
       "[Node(790), Node(6833), Node(8436), Node(2274), Node(7030)]"
      ]
     },
     "execution_count": 45,
     "metadata": {},
     "output_type": "execute_result"
    }
   ],
   "source": [
    "node_list"
   ]
  },
  {
   "cell_type": "code",
   "execution_count": 47,
   "id": "83f4b816-193a-4548-9efb-3263036c638c",
   "metadata": {},
   "outputs": [
    {
     "data": {
      "text/plain": [
       "True"
      ]
     },
     "execution_count": 47,
     "metadata": {},
     "output_type": "execute_result"
    }
   ],
   "source": [
    "7030 in my_bag"
   ]
  },
  {
   "cell_type": "code",
   "execution_count": 35,
   "id": "394d0f4c-2fbb-44df-a41d-7dfb36fac0af",
   "metadata": {},
   "outputs": [
    {
     "data": {
      "text/plain": [
       "<teamlab_ds.LinkedListBag at 0x24f01fb8390>"
      ]
     },
     "execution_count": 35,
     "metadata": {},
     "output_type": "execute_result"
    }
   ],
   "source": [
    "my_bag"
   ]
  },
  {
   "cell_type": "code",
   "execution_count": 31,
   "id": "a0e0f6fa-9ec1-4a77-afdf-58dc2f82a35c",
   "metadata": {},
   "outputs": [
    {
     "name": "stdout",
     "output_type": "stream",
     "text": [
      "1896\n",
      "1411\n",
      "830\n",
      "4094\n",
      "2441\n"
     ]
    }
   ],
   "source": [
    "cur_node = my_bag.head\n",
    "while cur_node is not None:\n",
    "    print(cur_node.data)\n",
    "    cur_node = cur_node.next"
   ]
  },
  {
   "cell_type": "code",
   "execution_count": 32,
   "id": "f037c700-ffde-4c1c-8768-f6ef4bdf44a7",
   "metadata": {},
   "outputs": [
    {
     "data": {
      "text/plain": [
       "True"
      ]
     },
     "execution_count": 32,
     "metadata": {},
     "output_type": "execute_result"
    }
   ],
   "source": [
    "test = [1,2,3,4,5,6]\n",
    "1 in test"
   ]
  },
  {
   "cell_type": "code",
   "execution_count": 58,
   "id": "3eb2a618",
   "metadata": {},
   "outputs": [
    {
     "data": {
      "text/plain": [
       "<module 'teamlab_ds' from 'c:\\\\Users\\\\samsung\\\\workspace\\\\dssa-2023\\\\LinkedList\\\\linked_list_implementation\\\\teamlab_ds.py'>"
      ]
     },
     "execution_count": 58,
     "metadata": {},
     "output_type": "execute_result"
    }
   ],
   "source": [
    "import teamlab_ds as ds\n",
    "from importlib import reload\n",
    "import random\n",
    "\n",
    "reload(ds)"
   ]
  },
  {
   "cell_type": "code",
   "execution_count": 49,
   "id": "975adb64",
   "metadata": {},
   "outputs": [],
   "source": [
    "node_list = []\n",
    "for _ in range(5):\n",
    "    node_list.append(ds.Node(random.randint(1, 10000)))\n",
    "\n",
    "for idx in range(1, len(node_list)):\n",
    "    node_list[idx-1] + node_list[idx]"
   ]
  },
  {
   "cell_type": "code",
   "execution_count": 50,
   "id": "e6717065",
   "metadata": {},
   "outputs": [],
   "source": [
    "my_bag = ds.LinkedListBag()"
   ]
  },
  {
   "cell_type": "code",
   "execution_count": 8,
   "id": "418f1bb9",
   "metadata": {},
   "outputs": [],
   "source": [
    "my_bag = ds.LinkedListBag(ds.Node(random.randint(1, 10000)))"
   ]
  },
  {
   "cell_type": "code",
   "execution_count": 51,
   "id": "9ab132f6",
   "metadata": {},
   "outputs": [],
   "source": [
    "for _ in range(5):\n",
    "    my_bag.append(ds.Node(random.randint(1, 10000)))\n",
    "\n",
    "# Error: 아무것도 안들어가고 시작하면 tail이나 head 값이 None이기 때문에 next 값이 없음\n",
    "# append에 try except문을 넣고나면 len(my_bag) 결과 5로 출력"
   ]
  },
  {
   "cell_type": "code",
   "execution_count": 38,
   "id": "9b5f5af7",
   "metadata": {},
   "outputs": [
    {
     "data": {
      "text/plain": [
       "573 -> 4542 -> 9185 -> 7505 -> 7414 -> End of Linked List"
      ]
     },
     "execution_count": 38,
     "metadata": {},
     "output_type": "execute_result"
    }
   ],
   "source": [
    "my_bag"
   ]
  },
  {
   "cell_type": "code",
   "execution_count": 27,
   "id": "9dbce28c",
   "metadata": {},
   "outputs": [
    {
     "data": {
      "text/plain": [
       "5"
      ]
     },
     "execution_count": 27,
     "metadata": {},
     "output_type": "execute_result"
    }
   ],
   "source": [
    "len(my_bag)"
   ]
  },
  {
   "cell_type": "code",
   "execution_count": 39,
   "id": "88f171e8",
   "metadata": {},
   "outputs": [
    {
     "data": {
      "text/plain": [
       "True"
      ]
     },
     "execution_count": 39,
     "metadata": {},
     "output_type": "execute_result"
    }
   ],
   "source": [
    "new_node = ds.Node(random.randint(1, 10000))\n",
    "my_bag.insert(new_node, 3)"
   ]
  },
  {
   "cell_type": "code",
   "execution_count": 40,
   "id": "5f9a8296",
   "metadata": {},
   "outputs": [
    {
     "data": {
      "text/plain": [
       "Node(8195)"
      ]
     },
     "execution_count": 40,
     "metadata": {},
     "output_type": "execute_result"
    }
   ],
   "source": [
    "new_node"
   ]
  },
  {
   "cell_type": "code",
   "execution_count": 28,
   "id": "3b573818",
   "metadata": {},
   "outputs": [
    {
     "data": {
      "text/plain": [
       "9460 -> 8524 -> 2214 -> 7333 -> 2873 -> End of Linked List"
      ]
     },
     "execution_count": 28,
     "metadata": {},
     "output_type": "execute_result"
    }
   ],
   "source": [
    "my_bag"
   ]
  },
  {
   "cell_type": "code",
   "execution_count": 54,
   "id": "fed9319f",
   "metadata": {},
   "outputs": [
    {
     "data": {
      "text/plain": [
       "Node(9557)"
      ]
     },
     "execution_count": 54,
     "metadata": {},
     "output_type": "execute_result"
    }
   ],
   "source": [
    "new_node = ds.Node(random.randint(1, 10000))\n",
    "new_node"
   ]
  },
  {
   "cell_type": "code",
   "execution_count": 31,
   "id": "f27c427f",
   "metadata": {},
   "outputs": [
    {
     "data": {
      "text/plain": [
       "True"
      ]
     },
     "execution_count": 31,
     "metadata": {},
     "output_type": "execute_result"
    }
   ],
   "source": [
    "my_bag.insert(new_node, 2)"
   ]
  },
  {
   "cell_type": "code",
   "execution_count": 56,
   "id": "8da3d230",
   "metadata": {},
   "outputs": [
    {
     "data": {
      "text/plain": [
       "True"
      ]
     },
     "execution_count": 56,
     "metadata": {},
     "output_type": "execute_result"
    }
   ],
   "source": [
    "my_bag.insert(new_node, 0)\n",
    "# Error: pred_node가 아직 시작하지 않음, pred_node는 반드시 while문이 한 번 돌아야지만 cur_node를 잡아줌"
   ]
  },
  {
   "cell_type": "code",
   "execution_count": 57,
   "id": "74d18932",
   "metadata": {},
   "outputs": [
    {
     "data": {
      "text/plain": [
       "9557 -> 5618 -> 8850 -> 9972 -> 7490 -> 6505 -> End of Linked List"
      ]
     },
     "execution_count": 57,
     "metadata": {},
     "output_type": "execute_result"
    }
   ],
   "source": [
    "my_bag"
   ]
  },
  {
   "cell_type": "code",
   "execution_count": 70,
   "id": "f419d0f5",
   "metadata": {},
   "outputs": [
    {
     "data": {
      "text/plain": [
       "<module 'teamlab_ds' from 'c:\\\\Users\\\\samsung\\\\workspace\\\\dssa-2023\\\\LinkedList\\\\linked_list_implementation\\\\teamlab_ds.py'>"
      ]
     },
     "execution_count": 70,
     "metadata": {},
     "output_type": "execute_result"
    }
   ],
   "source": [
    "import teamlab_ds as ds\n",
    "from importlib import reload\n",
    "import random\n",
    "\n",
    "reload(ds)"
   ]
  },
  {
   "cell_type": "code",
   "execution_count": 71,
   "id": "431c221e",
   "metadata": {},
   "outputs": [],
   "source": [
    "my_bag = ds.LinkedListBag()\n",
    "for _ in range(5):\n",
    "    my_bag.append(ds.Node(random.randint(1, 10000)))"
   ]
  },
  {
   "cell_type": "code",
   "execution_count": 62,
   "id": "8653de61",
   "metadata": {},
   "outputs": [
    {
     "data": {
      "text/plain": [
       "6394 -> 1917 -> 9489 -> 2381 -> 2443 -> End of Linked List"
      ]
     },
     "execution_count": 62,
     "metadata": {},
     "output_type": "execute_result"
    }
   ],
   "source": [
    "my_bag"
   ]
  },
  {
   "cell_type": "code",
   "execution_count": 63,
   "id": "68cc9517",
   "metadata": {},
   "outputs": [
    {
     "data": {
      "text/plain": [
       "True"
      ]
     },
     "execution_count": 63,
     "metadata": {},
     "output_type": "execute_result"
    }
   ],
   "source": [
    "my_bag.remove(9489)"
   ]
  },
  {
   "cell_type": "code",
   "execution_count": 64,
   "id": "81f9dacc",
   "metadata": {},
   "outputs": [
    {
     "data": {
      "text/plain": [
       "6394 -> 1917 -> 2381 -> 2443 -> End of Linked List"
      ]
     },
     "execution_count": 64,
     "metadata": {},
     "output_type": "execute_result"
    }
   ],
   "source": [
    "my_bag"
   ]
  },
  {
   "cell_type": "code",
   "execution_count": 72,
   "id": "f835ae4f",
   "metadata": {},
   "outputs": [
    {
     "name": "stdout",
     "output_type": "stream",
     "text": [
      "I have a data : 431\n",
      "I have a next node : 2869376998224\n",
      "I have a data : 3113\n",
      "I have a next node : 2869377004240\n",
      "I have a data : 3776\n",
      "I have a next node : 2869377007568\n",
      "I have a data : 5784\n",
      "I have a next node : 2869377004176\n",
      "I have a data : 5438\n",
      "I have a next node : 140712070048496\n"
     ]
    }
   ],
   "source": [
    "for my_node in my_bag:\n",
    "    print(my_node) # iterator"
   ]
  },
  {
   "cell_type": "code",
   "execution_count": 65,
   "id": "358b59f0",
   "metadata": {},
   "outputs": [
    {
     "name": "stdout",
     "output_type": "stream",
     "text": [
      "10\n",
      "50\n",
      "40\n",
      "30\n"
     ]
    }
   ],
   "source": [
    "list_example = [10, 50, 40, 30]\n",
    "for value in list_example:\n",
    "    print(value)\n",
    "# iterable한 구조"
   ]
  },
  {
   "cell_type": "code",
   "execution_count": 67,
   "id": "9f1b1ff8",
   "metadata": {},
   "outputs": [],
   "source": [
    "list_example = iter([10, 50, 40, 30])"
   ]
  },
  {
   "cell_type": "code",
   "execution_count": 68,
   "id": "67a39537",
   "metadata": {},
   "outputs": [
    {
     "data": {
      "text/plain": [
       "10"
      ]
     },
     "execution_count": 68,
     "metadata": {},
     "output_type": "execute_result"
    }
   ],
   "source": [
    "next(list_example)"
   ]
  },
  {
   "cell_type": "code",
   "execution_count": 69,
   "id": "c51be6e9",
   "metadata": {},
   "outputs": [
    {
     "data": {
      "text/plain": [
       "50"
      ]
     },
     "execution_count": 69,
     "metadata": {},
     "output_type": "execute_result"
    }
   ],
   "source": [
    "next(list_example)"
   ]
  }
 ],
 "metadata": {
  "kernelspec": {
   "display_name": "Python 3 (ipykernel)",
   "language": "python",
   "name": "python3"
  },
  "language_info": {
   "codemirror_mode": {
    "name": "ipython",
    "version": 3
   },
   "file_extension": ".py",
   "mimetype": "text/x-python",
   "name": "python",
   "nbconvert_exporter": "python",
   "pygments_lexer": "ipython3",
   "version": "3.11.5"
  }
 },
 "nbformat": 4,
 "nbformat_minor": 5
}
