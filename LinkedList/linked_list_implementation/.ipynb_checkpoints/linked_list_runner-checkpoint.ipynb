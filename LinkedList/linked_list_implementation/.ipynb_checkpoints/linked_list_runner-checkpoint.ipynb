{
 "cells": [
  {
   "cell_type": "code",
   "execution_count": 3,
   "id": "296edbac-5f6f-4f56-911b-c15a7f5d95f6",
   "metadata": {},
   "outputs": [],
   "source": [
    "import teamlab_ds as ds\n",
    "import random"
   ]
  },
  {
   "cell_type": "code",
   "execution_count": 4,
   "id": "a888246f-822b-44ac-a4f1-d7585d229f74",
   "metadata": {},
   "outputs": [],
   "source": [
    "node_list = []\n",
    "for _ in range(5):\n",
    "    node_list.append(ds.Node(random.randint(1, 10000)))"
   ]
  },
  {
   "cell_type": "code",
   "execution_count": 5,
   "id": "53ca4ad7-daeb-44d1-927d-7bc00cb601e8",
   "metadata": {},
   "outputs": [
    {
     "data": {
      "text/plain": [
       "[Node(3672), Node(6071), Node(725), Node(330), Node(7557)]"
      ]
     },
     "execution_count": 5,
     "metadata": {},
     "output_type": "execute_result"
    }
   ],
   "source": [
    "node_list"
   ]
  },
  {
   "cell_type": "code",
   "execution_count": 6,
   "id": "8ebe711c-c01f-449b-ba79-a6c67c12bc0a",
   "metadata": {},
   "outputs": [],
   "source": [
    "for idx in range(1, len(node_list)):\n",
    "    node_list[idx-1] + node_list[idx]"
   ]
  },
  {
   "cell_type": "code",
   "execution_count": 7,
   "id": "4aec3380-d283-4dc6-bcb8-cb3ea83b49d0",
   "metadata": {},
   "outputs": [
    {
     "data": {
      "text/plain": [
       "Node(6071)"
      ]
     },
     "execution_count": 7,
     "metadata": {},
     "output_type": "execute_result"
    }
   ],
   "source": [
    "node_list[0].next"
   ]
  },
  {
   "cell_type": "code",
   "execution_count": 8,
   "id": "c8d506e8-4fd4-4cca-948c-998f3f5de9ff",
   "metadata": {},
   "outputs": [],
   "source": [
    "a = node_list[0]"
   ]
  },
  {
   "cell_type": "code",
   "execution_count": 9,
   "id": "edd6ddfd-587c-4af9-bc6d-2b06f20c6b7d",
   "metadata": {},
   "outputs": [
    {
     "name": "stdout",
     "output_type": "stream",
     "text": [
      "3672\n",
      "6071\n",
      "725\n",
      "330\n",
      "7557\n",
      "End of List\n"
     ]
    }
   ],
   "source": [
    "cur_node = a\n",
    "while cur_node is not None:\n",
    "    print(cur_node.data)\n",
    "    cur_node = cur_node.next\n",
    "else:\n",
    "    print(\"End of List\")\n"
   ]
  },
  {
   "cell_type": "code",
   "execution_count": 10,
   "id": "e7f3782a-0f15-44b2-b96e-500f9e7a18d5",
   "metadata": {},
   "outputs": [
    {
     "ename": "AttributeError",
     "evalue": "'NoneType' object has no attribute 'next'",
     "output_type": "error",
     "traceback": [
      "\u001b[1;31m---------------------------------------------------------------------------\u001b[0m",
      "\u001b[1;31mAttributeError\u001b[0m                            Traceback (most recent call last)",
      "Cell \u001b[1;32mIn[10], line 1\u001b[0m\n\u001b[1;32m----> 1\u001b[0m \u001b[43mcur_node\u001b[49m\u001b[38;5;241;43m.\u001b[39;49m\u001b[43mnext\u001b[49m\n",
      "\u001b[1;31mAttributeError\u001b[0m: 'NoneType' object has no attribute 'next'"
     ]
    }
   ],
   "source": [
    "cur_node.next"
   ]
  },
  {
   "cell_type": "code",
   "execution_count": 53,
   "id": "bc269e77-7997-45f8-ad65-b8c05d241b08",
   "metadata": {},
   "outputs": [
    {
     "data": {
      "text/plain": [
       "<module 'teamlab_ds' from 'C:\\\\Users\\\\samsung\\\\workspace\\\\dssa-2023\\\\LinkedList\\\\linked_list_implementation\\\\teamlab_ds.py'>"
      ]
     },
     "execution_count": 53,
     "metadata": {},
     "output_type": "execute_result"
    }
   ],
   "source": [
    "import teamlab_ds as ds\n",
    "from importlib import reload\n",
    "import random\n",
    "\n",
    "reload(ds)"
   ]
  },
  {
   "cell_type": "code",
   "execution_count": 24,
   "id": "aa883ca6-a190-4ea9-b8a8-f147c479c560",
   "metadata": {},
   "outputs": [],
   "source": [
    "a = ds.Node(10010)"
   ]
  },
  {
   "cell_type": "code",
   "execution_count": 25,
   "id": "d873f694-30f0-4655-9349-e3b569408b32",
   "metadata": {},
   "outputs": [],
   "source": [
    "my_bag = ds.LinkedListBag(a)"
   ]
  },
  {
   "cell_type": "code",
   "execution_count": 26,
   "id": "a7f548f6-5c40-494c-aaa2-e2b5a68e4620",
   "metadata": {},
   "outputs": [
    {
     "data": {
      "text/plain": [
       "Node(10010)"
      ]
     },
     "execution_count": 26,
     "metadata": {},
     "output_type": "execute_result"
    }
   ],
   "source": [
    "my_bag.head"
   ]
  },
  {
   "cell_type": "code",
   "execution_count": 54,
   "id": "c90e751e-286d-4eb1-bcb0-173233ccd637",
   "metadata": {},
   "outputs": [],
   "source": [
    "node_list = []\n",
    "for _ in range(5):\n",
    "    node_list.append(ds.Node(random.randint(1, 10000)))\n",
    "\n",
    "for idx in range(1, len(node_list)):\n",
    "    node_list[idx-1] + node_list[idx]"
   ]
  },
  {
   "cell_type": "code",
   "execution_count": 55,
   "id": "c7978574-93af-46a9-ac4c-f77140b1f3a8",
   "metadata": {},
   "outputs": [],
   "source": [
    "my_bag = ds.LinkedListBag(node_list[0])"
   ]
  },
  {
   "cell_type": "code",
   "execution_count": 56,
   "id": "0a625d0d-a5fa-4c6a-b01b-01c2842ae246",
   "metadata": {},
   "outputs": [
    {
     "data": {
      "text/plain": [
       "5"
      ]
     },
     "execution_count": 56,
     "metadata": {},
     "output_type": "execute_result"
    }
   ],
   "source": [
    "len(my_bag)"
   ]
  },
  {
   "cell_type": "code",
   "execution_count": 45,
   "id": "15d80fda-3eac-42c0-a54e-34280522361b",
   "metadata": {},
   "outputs": [
    {
     "data": {
      "text/plain": [
       "[Node(790), Node(6833), Node(8436), Node(2274), Node(7030)]"
      ]
     },
     "execution_count": 45,
     "metadata": {},
     "output_type": "execute_result"
    }
   ],
   "source": [
    "node_list"
   ]
  },
  {
   "cell_type": "code",
   "execution_count": 47,
   "id": "83f4b816-193a-4548-9efb-3263036c638c",
   "metadata": {},
   "outputs": [
    {
     "data": {
      "text/plain": [
       "True"
      ]
     },
     "execution_count": 47,
     "metadata": {},
     "output_type": "execute_result"
    }
   ],
   "source": [
    "7030 in my_bag"
   ]
  },
  {
   "cell_type": "code",
   "execution_count": 35,
   "id": "394d0f4c-2fbb-44df-a41d-7dfb36fac0af",
   "metadata": {},
   "outputs": [
    {
     "data": {
      "text/plain": [
       "<teamlab_ds.LinkedListBag at 0x24f01fb8390>"
      ]
     },
     "execution_count": 35,
     "metadata": {},
     "output_type": "execute_result"
    }
   ],
   "source": [
    "my_bag"
   ]
  },
  {
   "cell_type": "code",
   "execution_count": 31,
   "id": "a0e0f6fa-9ec1-4a77-afdf-58dc2f82a35c",
   "metadata": {},
   "outputs": [
    {
     "name": "stdout",
     "output_type": "stream",
     "text": [
      "1896\n",
      "1411\n",
      "830\n",
      "4094\n",
      "2441\n"
     ]
    }
   ],
   "source": [
    "cur_node = my_bag.head\n",
    "while cur_node is not None:\n",
    "    print(cur_node.data)\n",
    "    cur_node = cur_node.next"
   ]
  },
  {
   "cell_type": "code",
   "execution_count": 32,
   "id": "f037c700-ffde-4c1c-8768-f6ef4bdf44a7",
   "metadata": {},
   "outputs": [
    {
     "data": {
      "text/plain": [
       "True"
      ]
     },
     "execution_count": 32,
     "metadata": {},
     "output_type": "execute_result"
    }
   ],
   "source": [
    "test = [1,2,3,4,5,6]\n",
    "1 in test"
   ]
  }
 ],
 "metadata": {
  "kernelspec": {
   "display_name": "Python 3 (ipykernel)",
   "language": "python",
   "name": "python3"
  },
  "language_info": {
   "codemirror_mode": {
    "name": "ipython",
    "version": 3
   },
   "file_extension": ".py",
   "mimetype": "text/x-python",
   "name": "python",
   "nbconvert_exporter": "python",
   "pygments_lexer": "ipython3",
   "version": "3.11.4"
  }
 },
 "nbformat": 4,
 "nbformat_minor": 5
}
