{
 "cells": [
  {
   "cell_type": "code",
   "execution_count": 35,
   "id": "d2a5749e-b0a7-489d-b62c-f41d09424fb9",
   "metadata": {},
   "outputs": [],
   "source": [
    "class Node(object):\n",
    "    def __init__(self, data):\n",
    "        self.data = data\n",
    "        self.next = None\n",
    "\n",
    "    def __repr__(self): # 메모리 주소가 아닌 값이 출력되게\n",
    "        return str(self.data) # str 타입으로 뽑아줘야됨\n",
    "\n",
    "class Stack():\n",
    "    def __init__(self, first_node : Node = None):\n",
    "        self.size = 0\n",
    "        self.top = None\n",
    "\n",
    "        if first_node is not None: # is not None으로 하는 이유: 명시성\n",
    "            self.top = first_node\n",
    "            self.size += 1\n",
    "        else:\n",
    "            self.top = None\n",
    "            self.size = 0\n",
    "\n",
    "    def push(self, new_node : Node):\n",
    "        new_node.next = self.top\n",
    "        self.top = new_node\n",
    "        self.size += 1\n",
    "\n",
    "    def pop(self):\n",
    "        if self.is_empty():\n",
    "            raise Exception('Popping from an empty stack')\n",
    "            # Exception 발생\n",
    "        \n",
    "        return_value = self.top\n",
    "        self.top = self.top.next\n",
    "        self.size -= 1\n",
    "\n",
    "    def peek(self): # 맨 처음 값\n",
    "        return self.top\n",
    "\n",
    "    def is_empty(self) -> bool:\n",
    "        return True if self.size == 0 else False # 삼항연산자\n",
    "\n",
    "    def get_size(self) -> int:\n",
    "        return self.size\n",
    "\n",
    "    def __repr__(self): # 메모리 주소가 아닌 값이 출력되게\n",
    "        cur_node = self.top\n",
    "        out_list = []\n",
    "        while cur_node is not None:\n",
    "            out_list.append(str(cur_node.data))\n",
    "            cur_node = cur_node.next\n",
    "            # while loop -> O(n)\n",
    "        out_list = reversed(out_list) # reversed() -> O(n)\n",
    "        return ' --> '.join(out_list) # join() -> O(n)\n",
    "    # 3n -> O(n)"
   ]
  },
  {
   "cell_type": "code",
   "execution_count": 2,
   "id": "6b8aeeda-0e76-461a-a4e8-57d1757fa09a",
   "metadata": {},
   "outputs": [],
   "source": [
    "my_node = Node(10)"
   ]
  },
  {
   "cell_type": "code",
   "execution_count": 40,
   "id": "80ae7b08-0029-4fb7-a979-a26c6a17afc7",
   "metadata": {},
   "outputs": [],
   "source": [
    "my_stack = Stack()\n",
    "from random import randint\n",
    "for i in range(5):\n",
    "    my_stack.push(Node(randint(1, 1000)))"
   ]
  },
  {
   "cell_type": "code",
   "execution_count": 41,
   "id": "5d635d87-f958-4c7f-9893-b3e3e4470c32",
   "metadata": {},
   "outputs": [
    {
     "data": {
      "text/plain": [
       "721 --> 245 --> 947 --> 33 --> 222"
      ]
     },
     "execution_count": 41,
     "metadata": {},
     "output_type": "execute_result"
    }
   ],
   "source": [
    "my_stack"
   ]
  },
  {
   "cell_type": "code",
   "execution_count": 43,
   "id": "8c6811a4-53b3-48f5-a146-320b4fde0da3",
   "metadata": {},
   "outputs": [
    {
     "data": {
      "text/plain": [
       "__main__.Node"
      ]
     },
     "execution_count": 43,
     "metadata": {},
     "output_type": "execute_result"
    }
   ],
   "source": [
    "type(my_stack.peek())"
   ]
  },
  {
   "cell_type": "code",
   "execution_count": 21,
   "id": "7d7b2cec-b94b-46e1-bafe-7d80d6e67cbe",
   "metadata": {},
   "outputs": [
    {
     "data": {
      "text/plain": [
       "531 --> 324 --> 52 --> 917 --> 427"
      ]
     },
     "execution_count": 21,
     "metadata": {},
     "output_type": "execute_result"
    }
   ],
   "source": [
    "my_stack"
   ]
  },
  {
   "cell_type": "code",
   "execution_count": 38,
   "id": "df86fb2a-3f83-4b0b-b43c-2e0db8e04e08",
   "metadata": {},
   "outputs": [],
   "source": [
    "my_stack.pop()"
   ]
  },
  {
   "cell_type": "code",
   "execution_count": 23,
   "id": "dd60d9a0-14f8-491a-adca-0e3f0a9a502b",
   "metadata": {},
   "outputs": [
    {
     "data": {
      "text/plain": [
       "531 --> 324 --> 52 --> 917"
      ]
     },
     "execution_count": 23,
     "metadata": {},
     "output_type": "execute_result"
    }
   ],
   "source": [
    "my_stack"
   ]
  },
  {
   "cell_type": "code",
   "execution_count": 24,
   "id": "1f17b4c8-ae0e-4d9b-bacf-0a615771e12c",
   "metadata": {},
   "outputs": [],
   "source": [
    "my_stack.pop()"
   ]
  },
  {
   "cell_type": "code",
   "execution_count": 33,
   "id": "25966166-7d88-40c8-883b-3b7ac398e160",
   "metadata": {},
   "outputs": [
    {
     "data": {
      "text/plain": [
       "531 --> 324 --> 52"
      ]
     },
     "execution_count": 33,
     "metadata": {},
     "output_type": "execute_result"
    }
   ],
   "source": [
    "my_stack"
   ]
  },
  {
   "cell_type": "code",
   "execution_count": null,
   "id": "1ad02111-fb38-453c-bd05-78094d7682a9",
   "metadata": {},
   "outputs": [],
   "source": []
  },
  {
   "cell_type": "code",
   "execution_count": null,
   "id": "b965f5be-b0ed-40e0-9e0c-e8a980b95a21",
   "metadata": {},
   "outputs": [],
   "source": []
  },
  {
   "cell_type": "code",
   "execution_count": null,
   "id": "6add1d1d-479e-4e1e-bafc-da8dce11c945",
   "metadata": {},
   "outputs": [],
   "source": []
  }
 ],
 "metadata": {
  "kernelspec": {
   "display_name": "Python 3 (ipykernel)",
   "language": "python",
   "name": "python3"
  },
  "language_info": {
   "codemirror_mode": {
    "name": "ipython",
    "version": 3
   },
   "file_extension": ".py",
   "mimetype": "text/x-python",
   "name": "python",
   "nbconvert_exporter": "python",
   "pygments_lexer": "ipython3",
   "version": "3.11.4"
  }
 },
 "nbformat": 4,
 "nbformat_minor": 5
}
