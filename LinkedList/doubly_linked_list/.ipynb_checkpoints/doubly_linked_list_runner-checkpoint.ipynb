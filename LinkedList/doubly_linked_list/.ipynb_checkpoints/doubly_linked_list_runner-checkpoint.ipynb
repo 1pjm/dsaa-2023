{
 "cells": [
  {
   "cell_type": "code",
   "execution_count": 2,
   "id": "f56d91f6-a750-4355-87c6-3cdb27aeed0a",
   "metadata": {},
   "outputs": [
    {
     "data": {
      "text/plain": [
       "<module 'teamlab_ds' from 'c:\\\\Users\\\\samsung\\\\workspace\\\\dssa-2023\\\\LinkedList\\\\doubly_linked_list\\\\teamlab_ds.py'>"
      ]
     },
     "execution_count": 2,
     "metadata": {},
     "output_type": "execute_result"
    }
   ],
   "source": [
    "import importlib\n",
    "import teamlab_ds as ds\n",
    "importlib.reload(ds)"
   ]
  },
  {
   "cell_type": "code",
   "execution_count": null,
   "id": "587bc272-4eb2-4fdb-8b70-34a9e8d0f21d",
   "metadata": {},
   "outputs": [],
   "source": [
    "node_1 = ds.Node()\n",
    "node_2 = ds.Node()\n",
    "node_3 = ds.Node()"
   ]
  },
  {
   "cell_type": "code",
   "execution_count": 13,
   "id": "30671708-bf70-42ed-ade6-53c499a1d1ee",
   "metadata": {},
   "outputs": [],
   "source": [
    "node_1.data = 10\n",
    "node_2.data = 20\n",
    "node_3.data = 30"
   ]
  },
  {
   "cell_type": "code",
   "execution_count": null,
   "id": "f44e98e4-e11b-4a7a-aab2-26aa18c08596",
   "metadata": {},
   "outputs": [],
   "source": [
    "ex = [node_1, node_2, node_3]"
   ]
  },
  {
   "cell_type": "code",
   "execution_count": 14,
   "id": "3aa3f183-45ac-4288-8743-a4f7a91ebde1",
   "metadata": {},
   "outputs": [],
   "source": [
    "node_1.prev = None\n",
    "node_1.next = node_2\n",
    "\n",
    "node_2.next = node_3\n",
    "node_2.prev = node_1\n",
    "\n",
    "node_3.next = None\n",
    "node_3.prev = node_2\n"
   ]
  },
  {
   "cell_type": "code",
   "execution_count": 15,
   "id": "4ebd90ca-dd9e-4099-80bb-255fb96bf99d",
   "metadata": {},
   "outputs": [
    {
     "name": "stdout",
     "output_type": "stream",
     "text": [
      "10\n",
      "20\n",
      "30\n"
     ]
    }
   ],
   "source": [
    "head_node = node_1\n",
    "tail_node = node_3\n",
    "\n",
    "cur_node = head_node\n",
    "while cur_node.next is not None:\n",
    "    print(cur_node)\n",
    "    cur_node = cur_node.next\n",
    "print(cur_node)"
   ]
  },
  {
   "cell_type": "code",
   "execution_count": 16,
   "id": "748d996e-0238-45db-bcd1-c73092e87d22",
   "metadata": {},
   "outputs": [
    {
     "name": "stdout",
     "output_type": "stream",
     "text": [
      "30\n",
      "20\n",
      "10\n"
     ]
    }
   ],
   "source": [
    "head_node = node_1\n",
    "tail_node = node_3\n",
    "\n",
    "cur_node = tail_node\n",
    "while cur_node.prev is not None:\n",
    "    print(cur_node)\n",
    "    cur_node = cur_node.prev\n",
    "print(cur_node)"
   ]
  },
  {
   "cell_type": "code",
   "execution_count": 17,
   "id": "efbb544a-cb62-4611-b730-b248237020a4",
   "metadata": {},
   "outputs": [],
   "source": [
    "class DoublyLinkedListBag:\n",
    "    def __init__(self):\n",
    "        self.head = None\n",
    "        self.tail = None\n",
    "        self.size = 0\n",
    "        \n",
    "    def append(self, new_node : 'Node'):\n",
    "        # 혹시 비었나?\n",
    "        if self.head is not None:\n",
    "            self.tail.next = new_node\n",
    "            new_node.prev = self.tail\n",
    "            self.tail = new_node\n",
    "        else:\n",
    "            self.head = new_node\n",
    "            self.tail = new_node\n",
    "        self.size += 1\n",
    "\n",
    "    def insert(self):\n",
    "        pass\n",
    "\n",
    "    def remove(self):\n",
    "        pass\n",
    "\n",
    "    def peak(self):\n",
    "        pass"
   ]
  },
  {
   "cell_type": "code",
   "execution_count": 16,
   "id": "22eef61d-6935-49b4-a5fe-0c1f10453a04",
   "metadata": {},
   "outputs": [],
   "source": [
    "node_1 = ds.Node()\n",
    "node_2 = ds.Node()\n",
    "node_3 = ds.Node()\n",
    "\n",
    "node_1.data = 10\n",
    "node_2.data = 20\n",
    "node_3.data = 30"
   ]
  },
  {
   "cell_type": "code",
   "execution_count": 17,
   "id": "b1c3a235-0b88-4336-8653-1f98a166c2e7",
   "metadata": {},
   "outputs": [],
   "source": [
    "mybag = DoublyLinkedListBag()\n",
    "mybag.append(node_1)\n",
    "mybag.append(node_2)\n",
    "mybag.append(node_3)"
   ]
  },
  {
   "cell_type": "code",
   "execution_count": 8,
   "id": "73fdfa08-6575-4b19-93af-ab8aba4baa62",
   "metadata": {},
   "outputs": [
    {
     "ename": "ValueError",
     "evalue": "remove(x): x not in list",
     "output_type": "error",
     "traceback": [
      "\u001b[1;31m---------------------------------------------------------------------------\u001b[0m",
      "\u001b[1;31mValueError\u001b[0m                                Traceback (most recent call last)",
      "\u001b[1;32mc:\\Users\\samsung\\workspace\\dssa-2023\\LinkedList\\doubly_linked_list\\Untitled.ipynb 셀 11\u001b[0m line \u001b[0;36m1\n\u001b[1;32m----> <a href='vscode-notebook-cell:/c%3A/Users/samsung/workspace/dssa-2023/LinkedList/doubly_linked_list/Untitled.ipynb#X13sZmlsZQ%3D%3D?line=0'>1</a>\u001b[0m mybag\u001b[39m.\u001b[39;49mremove(\u001b[39m50\u001b[39;49m)\n",
      "\u001b[1;32mc:\\Users\\samsung\\workspace\\dssa-2023\\LinkedList\\doubly_linked_list\\Untitled.ipynb 셀 11\u001b[0m line \u001b[0;36m5\n\u001b[0;32m     <a href='vscode-notebook-cell:/c%3A/Users/samsung/workspace/dssa-2023/LinkedList/doubly_linked_list/Untitled.ipynb#X13sZmlsZQ%3D%3D?line=48'>49</a>\u001b[0m         cur_node \u001b[39m=\u001b[39m cur_node\u001b[39m.\u001b[39mnext\n\u001b[0;32m     <a href='vscode-notebook-cell:/c%3A/Users/samsung/workspace/dssa-2023/LinkedList/doubly_linked_list/Untitled.ipynb#X13sZmlsZQ%3D%3D?line=50'>51</a>\u001b[0m \u001b[39melse\u001b[39;00m:\n\u001b[1;32m---> <a href='vscode-notebook-cell:/c%3A/Users/samsung/workspace/dssa-2023/LinkedList/doubly_linked_list/Untitled.ipynb#X13sZmlsZQ%3D%3D?line=51'>52</a>\u001b[0m     \u001b[39mraise\u001b[39;00m \u001b[39mValueError\u001b[39;00m(\u001b[39m'\u001b[39m\u001b[39mremove(x): x not in list\u001b[39m\u001b[39m'\u001b[39m)\n",
      "\u001b[1;31mValueError\u001b[0m: remove(x): x not in list"
     ]
    }
   ],
   "source": [
    "mybag.remove(50)"
   ]
  },
  {
   "cell_type": "code",
   "execution_count": 52,
   "id": "5293b859-a0fc-4e18-bbb7-9a3cc4569991",
   "metadata": {},
   "outputs": [],
   "source": [
    "mybag.remove(20)"
   ]
  },
  {
   "cell_type": "code",
   "execution_count": 18,
   "id": "62060daa-eaf3-4955-8377-edb8a5b3bc18",
   "metadata": {},
   "outputs": [],
   "source": [
    "mybag.remove(10)"
   ]
  },
  {
   "cell_type": "code",
   "execution_count": 19,
   "id": "a17874ac-fd4a-46d3-a94b-bcb7ceb4787c",
   "metadata": {},
   "outputs": [
    {
     "data": {
      "text/plain": []
     },
     "execution_count": 19,
     "metadata": {},
     "output_type": "execute_result"
    }
   ],
   "source": [
    "mybag"
   ]
  },
  {
   "cell_type": "code",
   "execution_count": 13,
   "id": "5a5e3972-a74e-41de-a52e-0eec6b822d18",
   "metadata": {},
   "outputs": [
    {
     "name": "stdout",
     "output_type": "stream",
     "text": [
      "10\n",
      "20\n",
      "30\n"
     ]
    }
   ],
   "source": [
    "cur_node = node_1\n",
    "while cur_node.next is not None:\n",
    "    print(cur_node)\n",
    "    cur_node = cur_node.next\n",
    "print(cur_node)"
   ]
  },
  {
   "cell_type": "code",
   "execution_count": 12,
   "id": "4df1c6f7-5f22-40c2-9042-21bc74512c08",
   "metadata": {},
   "outputs": [
    {
     "name": "stdout",
     "output_type": "stream",
     "text": [
      "30\n",
      "20\n"
     ]
    }
   ],
   "source": [
    "cur_node = node_3\n",
    "while cur_node.prev is not None:\n",
    "    print(cur_node)\n",
    "    cur_node = cur_node.prev\n",
    "print(cur_node)"
   ]
  },
  {
   "cell_type": "code",
   "execution_count": 15,
   "id": "e3b45d63-c2a8-4fdd-989b-bf3edbc868b0",
   "metadata": {},
   "outputs": [],
   "source": [
    "class DoublyLinkedListBag:\n",
    "    def __init__(self):\n",
    "        self.head = None\n",
    "        self.tail = None\n",
    "        self.size = 0\n",
    "        \n",
    "    def append(self, new_node : 'Node'):\n",
    "        # 혹시 비었나?\n",
    "        if self.head is not None:\n",
    "            self.tail.next = new_node\n",
    "            new_node.prev = self.tail\n",
    "            self.tail = new_node\n",
    "        else:\n",
    "            self.head = new_node\n",
    "            self.tail = new_node\n",
    "        self.size += 1\n",
    "\n",
    "    def insert(self):\n",
    "        pass\n",
    "\n",
    "    def remove(self, target_data):\n",
    "        # 혹시 비었나?\n",
    "        if self.size == 0:\n",
    "            raise ValueError('remove(x): x not in list') # 없는 노드를 지우려고 하니까\n",
    "\n",
    "        cur_node = self.head\n",
    "        if target_data == self.head.data:\n",
    "            self.head = self.head.next\n",
    "            self.head.prev = None\n",
    "            return\n",
    "\n",
    "        if target_data == self.tail.data:\n",
    "            self.tail = self.tail.prev\n",
    "            self.tail.next = None\n",
    "            return\n",
    "            \n",
    "        while cur_node is not None:\n",
    "            if target_data == cur_node.data:\n",
    "                # 첫 값일때?\n",
    "                # 끝 값일때?\n",
    "                cur_node.prev.next = cur_node.next\n",
    "                cur_node.next.prev = cur_node.prev\n",
    "                cur_node = None\n",
    "                break # remove는 return이 없기 때문에\n",
    "                # 찾았다\n",
    "                # 앞 뒤 노드를 연결 시켜준다\n",
    "                # 지운다\n",
    "            else:\n",
    "                cur_node = cur_node.next\n",
    "                \n",
    "        else:\n",
    "            raise ValueError('remove(x): x not in list')\n",
    "                    \n",
    "    def peak(self):\n",
    "        return self.tail\n",
    "\n",
    "    def __repr__(self):\n",
    "        output = \"\"\n",
    "        cur_node = self.head\n",
    "        while cur_node.prev is not None:\n",
    "            output += f\"{cur_node.data} --> \"\n",
    "            cur_node = cur_node.next\n",
    "        return output\n",
    "        "
   ]
  },
  {
   "cell_type": "code",
   "execution_count": 23,
   "id": "a2bea9b6-a404-4a11-86a2-d94b7a4087e9",
   "metadata": {},
   "outputs": [],
   "source": [
    "mybag = DoublyLinkedListBag()\n",
    "mybag.append(node_1)\n",
    "mybag.append(node_2)\n",
    "mybag.append(node_3)"
   ]
  },
  {
   "cell_type": "code",
   "execution_count": 24,
   "id": "f3ec8cee-eb3b-429a-b3fa-7e4ca0df409f",
   "metadata": {},
   "outputs": [
    {
     "data": {
      "text/plain": [
       "30"
      ]
     },
     "execution_count": 24,
     "metadata": {},
     "output_type": "execute_result"
    }
   ],
   "source": [
    "mybag.peak()"
   ]
  },
  {
   "cell_type": "code",
   "execution_count": null,
   "id": "b5265ad8-4b2c-49cc-a590-7011ceca2711",
   "metadata": {},
   "outputs": [],
   "source": []
  },
  {
   "cell_type": "code",
   "execution_count": null,
   "id": "dbb01b6c-e798-4b8d-b88d-4c3cd7f12355",
   "metadata": {},
   "outputs": [],
   "source": []
  },
  {
   "cell_type": "code",
   "execution_count": null,
   "id": "c1578f49-ccf0-436e-8886-af8f3f06ad3a",
   "metadata": {},
   "outputs": [],
   "source": []
  }
 ],
 "metadata": {
  "kernelspec": {
   "display_name": "Python 3 (ipykernel)",
   "language": "python",
   "name": "python3"
  },
  "language_info": {
   "codemirror_mode": {
    "name": "ipython",
    "version": 3
   },
   "file_extension": ".py",
   "mimetype": "text/x-python",
   "name": "python",
   "nbconvert_exporter": "python",
   "pygments_lexer": "ipython3",
   "version": "3.11.5"
  }
 },
 "nbformat": 4,
 "nbformat_minor": 5
}
