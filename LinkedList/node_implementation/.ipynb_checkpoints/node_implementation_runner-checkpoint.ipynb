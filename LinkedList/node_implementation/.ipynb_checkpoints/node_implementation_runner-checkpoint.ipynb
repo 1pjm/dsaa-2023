{
 "cells": [
  {
   "cell_type": "code",
   "execution_count": 3,
   "id": "a3c86204-86f4-4a2d-9ed5-a79b143833b3",
   "metadata": {},
   "outputs": [
    {
     "data": {
      "text/plain": [
       "<module 'teamlab_ds' from 'C:\\\\Users\\\\samsung\\\\workspace\\\\dssa-2023\\\\LinkedList\\\\node_implementation\\\\teamlab_ds.py'>"
      ]
     },
     "execution_count": 3,
     "metadata": {},
     "output_type": "execute_result"
    }
   ],
   "source": [
    "import teamlab_ds as ds\n",
    "import importlib\n",
    "importlib.reload(ds)"
   ]
  },
  {
   "cell_type": "code",
   "execution_count": 4,
   "id": "77487ba9-113e-45ba-88db-35655d64294d",
   "metadata": {},
   "outputs": [
    {
     "data": {
      "text/plain": [
       "1347"
      ]
     },
     "execution_count": 4,
     "metadata": {},
     "output_type": "execute_result"
    }
   ],
   "source": [
    "import random \n",
    "random.randint(1, 10000)"
   ]
  },
  {
   "cell_type": "code",
   "execution_count": 5,
   "id": "9f406040-4369-419e-9ceb-ff91c29dd538",
   "metadata": {},
   "outputs": [],
   "source": [
    "node_list = []\n",
    "for _ in range(1000):\n",
    "    node_list.append(ds.Node(random.randint(1, 10000)))"
   ]
  },
  {
   "cell_type": "code",
   "execution_count": 6,
   "id": "1ff26651-35fb-4b98-8838-1c58efc76486",
   "metadata": {},
   "outputs": [],
   "source": [
    "for idx in range(1, len(node_list)):\n",
    "    node_list[idx-1] + node_list[idx]"
   ]
  },
  {
   "cell_type": "code",
   "execution_count": 7,
   "id": "4de4dc53-f5bd-49ae-9b2b-0c989a0bd740",
   "metadata": {},
   "outputs": [
    {
     "data": {
      "text/plain": [
       "Node(9878)"
      ]
     },
     "execution_count": 7,
     "metadata": {},
     "output_type": "execute_result"
    }
   ],
   "source": [
    "node_list[0].next.next"
   ]
  },
  {
   "cell_type": "code",
   "execution_count": 8,
   "id": "9c11e5ab-30fb-4837-bf52-2aae85c3b157",
   "metadata": {},
   "outputs": [
    {
     "data": {
      "text/plain": [
       "9097"
      ]
     },
     "execution_count": 8,
     "metadata": {},
     "output_type": "execute_result"
    }
   ],
   "source": [
    "node_list[0].next.data"
   ]
  },
  {
   "cell_type": "code",
   "execution_count": 9,
   "id": "8627d31d-9517-4de9-8962-b5e7eeb15964",
   "metadata": {},
   "outputs": [
    {
     "name": "stdout",
     "output_type": "stream",
     "text": [
      "I have a data : 8359\n",
      "I have a next node : 2310367852688\n"
     ]
    }
   ],
   "source": [
    "print(node_list[5].next)"
   ]
  },
  {
   "cell_type": "code",
   "execution_count": 13,
   "id": "447009e4-c914-4d5f-a9fd-1bc08132dcd7",
   "metadata": {},
   "outputs": [
    {
     "data": {
      "text/plain": [
       "[Node(5243),\n",
       " Node(9097),\n",
       " Node(9878),\n",
       " Node(3375),\n",
       " Node(510),\n",
       " Node(8922),\n",
       " Node(8359)]"
      ]
     },
     "execution_count": 13,
     "metadata": {},
     "output_type": "execute_result"
    }
   ],
   "source": [
    "node_list[:7]"
   ]
  },
  {
   "cell_type": "code",
   "execution_count": 14,
   "id": "1c44f16f-fbdc-4ca8-a71e-2db9f4cbabe2",
   "metadata": {},
   "outputs": [
    {
     "ename": "NameError",
     "evalue": "name 'a' is not defined",
     "output_type": "error",
     "traceback": [
      "\u001b[1;31m---------------------------------------------------------------------------\u001b[0m",
      "\u001b[1;31mNameError\u001b[0m                                 Traceback (most recent call last)",
      "Cell \u001b[1;32mIn[14], line 1\u001b[0m\n\u001b[1;32m----> 1\u001b[0m \u001b[43ma\u001b[49m \u001b[38;5;241m+\u001b[39m b\n\u001b[0;32m      2\u001b[0m a\u001b[38;5;241m.\u001b[39mnext\n\u001b[0;32m      3\u001b[0m b \u001b[38;5;241m+\u001b[39m c\n",
      "\u001b[1;31mNameError\u001b[0m: name 'a' is not defined"
     ]
    }
   ],
   "source": [
    "a + b\n",
    "a.next\n",
    "b + c\n",
    "b.next"
   ]
  },
  {
   "cell_type": "code",
   "execution_count": 15,
   "id": "944b26d7-2bc3-4fcb-b00c-7dcbda776443",
   "metadata": {},
   "outputs": [
    {
     "ename": "NameError",
     "evalue": "name 'b' is not defined",
     "output_type": "error",
     "traceback": [
      "\u001b[1;31m---------------------------------------------------------------------------\u001b[0m",
      "\u001b[1;31mNameError\u001b[0m                                 Traceback (most recent call last)",
      "Cell \u001b[1;32mIn[15], line 1\u001b[0m\n\u001b[1;32m----> 1\u001b[0m a\u001b[38;5;241m.\u001b[39mnext \u001b[38;5;241m=\u001b[39m \u001b[43mb\u001b[49m\n\u001b[0;32m      2\u001b[0m b\u001b[38;5;241m.\u001b[39mnext \u001b[38;5;241m=\u001b[39m c\n",
      "\u001b[1;31mNameError\u001b[0m: name 'b' is not defined"
     ]
    }
   ],
   "source": [
    "a.next = b\n",
    "b.next = c"
   ]
  },
  {
   "cell_type": "code",
   "execution_count": 16,
   "id": "c462613a-2251-485e-838a-38f1ac7e4a06",
   "metadata": {},
   "outputs": [
    {
     "ename": "NameError",
     "evalue": "name 'a' is not defined",
     "output_type": "error",
     "traceback": [
      "\u001b[1;31m---------------------------------------------------------------------------\u001b[0m",
      "\u001b[1;31mNameError\u001b[0m                                 Traceback (most recent call last)",
      "Cell \u001b[1;32mIn[16], line 1\u001b[0m\n\u001b[1;32m----> 1\u001b[0m \u001b[43ma\u001b[49m\n",
      "\u001b[1;31mNameError\u001b[0m: name 'a' is not defined"
     ]
    }
   ],
   "source": [
    "a"
   ]
  },
  {
   "cell_type": "code",
   "execution_count": null,
   "id": "a1043a3b-a06c-44b9-b75b-5a7f2065532c",
   "metadata": {},
   "outputs": [],
   "source": [
    "b"
   ]
  },
  {
   "cell_type": "code",
   "execution_count": null,
   "id": "4c928e57-9827-44cd-bf34-353baf01d578",
   "metadata": {},
   "outputs": [],
   "source": [
    "print(a)"
   ]
  },
  {
   "cell_type": "code",
   "execution_count": null,
   "id": "c1c80898-ace9-48b9-8a5b-21d076efb2b9",
   "metadata": {},
   "outputs": [],
   "source": [
    "a + b"
   ]
  },
  {
   "cell_type": "code",
   "execution_count": null,
   "id": "5d75e808-cf9f-439b-920e-b7063ca5677b",
   "metadata": {},
   "outputs": [],
   "source": [
    "print(a.__dict__)"
   ]
  },
  {
   "cell_type": "code",
   "execution_count": null,
   "id": "7b6f133a-1073-459e-8af9-13adf80937d5",
   "metadata": {},
   "outputs": [],
   "source": [
    "a.__dict__[\"_data\"] = 200"
   ]
  },
  {
   "cell_type": "code",
   "execution_count": null,
   "id": "5ce34003-74f1-4b10-910e-2eea205fd443",
   "metadata": {},
   "outputs": [],
   "source": [
    "a.data"
   ]
  },
  {
   "cell_type": "code",
   "execution_count": null,
   "id": "91d0ea43-772f-42a9-8df4-df46da5e206b",
   "metadata": {},
   "outputs": [],
   "source": [
    "print(a.__doc__)"
   ]
  },
  {
   "cell_type": "code",
   "execution_count": null,
   "id": "5298efcf-c628-46a3-8251-90cff64ac2cf",
   "metadata": {},
   "outputs": [],
   "source": [
    "a.next = b\n",
    "b.next = c\n",
    "b = None\n",
    "c = None"
   ]
  },
  {
   "cell_type": "code",
   "execution_count": null,
   "id": "4c60eeef-8f26-4232-aeb9-d656c8279edd",
   "metadata": {},
   "outputs": [],
   "source": [
    "print(a)"
   ]
  },
  {
   "cell_type": "code",
   "execution_count": null,
   "id": "3978cd46-6158-427d-a0f4-eb1e2bff3b45",
   "metadata": {},
   "outputs": [],
   "source": [
    "print(a.__doc__)"
   ]
  },
  {
   "cell_type": "code",
   "execution_count": null,
   "id": "a6024135-3cdc-4852-986b-e4ee927ee83b",
   "metadata": {},
   "outputs": [],
   "source": [
    "test = [1,2,3,4,5]\n",
    "print(test.__doc__)"
   ]
  },
  {
   "cell_type": "code",
   "execution_count": null,
   "id": "343ab81e-d421-47e9-aefa-4a017046212b",
   "metadata": {},
   "outputs": [],
   "source": []
  },
  {
   "cell_type": "code",
   "execution_count": null,
   "id": "498c1b4e-adeb-4687-9e8f-9180ea441179",
   "metadata": {},
   "outputs": [],
   "source": []
  }
 ],
 "metadata": {
  "kernelspec": {
   "display_name": "Python 3 (ipykernel)",
   "language": "python",
   "name": "python3"
  },
  "language_info": {
   "codemirror_mode": {
    "name": "ipython",
    "version": 3
   },
   "file_extension": ".py",
   "mimetype": "text/x-python",
   "name": "python",
   "nbconvert_exporter": "python",
   "pygments_lexer": "ipython3",
   "version": "3.11.4"
  }
 },
 "nbformat": 4,
 "nbformat_minor": 5
}
