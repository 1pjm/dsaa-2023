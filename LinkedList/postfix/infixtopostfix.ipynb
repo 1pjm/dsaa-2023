{
 "cells": [
  {
   "cell_type": "code",
   "execution_count": 6,
   "id": "48dc8cec-51db-45d3-bdb2-d777b01e352a",
   "metadata": {},
   "outputs": [],
   "source": [
    "exp = \"5 * 3 + 12 / ( 4 + 3 * 7 )\"\n",
    "exp_list = exp.split()\n",
    "precedence = {'+':1, '-':1, '*':2, '/':2, '^':3} # 우선순위"
   ]
  },
  {
   "cell_type": "code",
   "execution_count": 7,
   "id": "5932e6da-a4d4-4fe3-a2a8-8c7a46202b54",
   "metadata": {},
   "outputs": [
    {
     "data": {
      "text/plain": [
       "['5', '*', '3', '+', '12', '/', '(', '4', '+', '3', '*', '7', ')']"
      ]
     },
     "execution_count": 7,
     "metadata": {},
     "output_type": "execute_result"
    }
   ],
   "source": [
    "exp_list"
   ]
  },
  {
   "cell_type": "code",
   "execution_count": 8,
   "id": "5bead95c-ad5e-4510-b525-33dbb5955f7e",
   "metadata": {},
   "outputs": [],
   "source": [
    "output_list = []\n",
    "pregress_stack = []\n",
    "\n",
    "def infix_to_postfix(expression): #input expression\n",
    "    \n",
    "    OPERATORS = set(['+', '-', '*', '/', '(', ')', '^'])  # set of operators\n",
    "    PRIORITY = {'+':1, '-':1, '*':2, '/':2, '^':3} # dictionary having priorities \n",
    "\n",
    "    stack = [] # initially stack empty\n",
    "    output = '' # initially output empty\n",
    "\n",
    "\n",
    "    for ch in expression:\n",
    "        # print(ch)\n",
    "        if ch not in OPERATORS:  \n",
    "            output+= ch\n",
    "        elif ch=='(': \n",
    "            stack.append('(')\n",
    "        elif ch==')':\n",
    "            while stack and stack[-1]!= '(':\n",
    "                output += stack.pop()\n",
    "            stack.pop()\n",
    "        else:\n",
    "            while stack and stack[-1]!='(' and PRIORITY[ch]<=PRIORITY[stack[-1]]:\n",
    "                output+=stack.pop()\n",
    "            stack.append(ch)\n",
    "        print(stack)\n",
    "    while stack:\n",
    "        output+=stack.pop()\n",
    "\n",
    "    print(f'포스트픽스 변환 결과: {output}')"
   ]
  },
  {
   "cell_type": "code",
   "execution_count": 9,
   "id": "e2649315-0038-40c2-8306-c03e1cf1b35d",
   "metadata": {},
   "outputs": [
    {
     "name": "stdout",
     "output_type": "stream",
     "text": [
      "[]\n",
      "['*']\n",
      "['*']\n",
      "['+']\n",
      "['+']\n",
      "['+', '/']\n",
      "['+', '/', '(']\n",
      "['+', '/', '(']\n",
      "['+', '/', '(', '+']\n",
      "['+', '/', '(', '+']\n",
      "['+', '/', '(', '+', '*']\n",
      "['+', '/', '(', '+', '*']\n",
      "['+', '/']\n",
      "포스트픽스 변환 결과: 53*12437*+/+\n"
     ]
    }
   ],
   "source": [
    "exp = \"5 * 3 + 12 / ( 4 + 3 * 7 )\"\n",
    "exp_list = exp.split()\n",
    "infix_to_postfix(exp_list)"
   ]
  },
  {
   "cell_type": "code",
   "execution_count": 5,
   "id": "0bebafd7-5d48-45ed-a9e2-0d713380d073",
   "metadata": {},
   "outputs": [
    {
     "name": "stdout",
     "output_type": "stream",
     "text": [
      "(\n",
      "['(']\n",
      "A\n",
      "['(']\n",
      "+\n",
      "['(', '+']\n",
      "B\n",
      "['(', '+']\n",
      ")\n",
      "[]\n",
      "*\n",
      "['*']\n",
      "(\n",
      "['*', '(']\n",
      "C\n",
      "['*', '(']\n",
      "+\n",
      "['*', '(', '+']\n",
      "D\n",
      "['*', '(', '+']\n",
      ")\n",
      "['*']\n"
     ]
    },
    {
     "data": {
      "text/plain": [
       "'AB+CD+*'"
      ]
     },
     "execution_count": 5,
     "metadata": {},
     "output_type": "execute_result"
    }
   ],
   "source": [
    "exp = \"( A + B ) * ( C + D )\"\n",
    "exp_list = exp.split()\n",
    "infix_to_postfix(exp_list)"
   ]
  },
  {
   "cell_type": "code",
   "execution_count": 6,
   "id": "9e61fe3b-4153-4f16-b2d2-e0da449fd578",
   "metadata": {},
   "outputs": [
    {
     "name": "stdout",
     "output_type": "stream",
     "text": [
      "1\n",
      "[]\n",
      "+\n",
      "['+']\n",
      "2\n",
      "['+']\n",
      "*\n",
      "['+', '*']\n",
      "3\n",
      "['+', '*']\n",
      "/\n",
      "['+', '/']\n",
      "2\n",
      "['+', '/']\n"
     ]
    },
    {
     "data": {
      "text/plain": [
       "'123*2/+'"
      ]
     },
     "execution_count": 6,
     "metadata": {},
     "output_type": "execute_result"
    }
   ],
   "source": [
    "exp = \"1 + 2 * 3 / 2\"\n",
    "exp_list = exp.split()\n",
    "infix_to_postfix(exp_list)"
   ]
  },
  {
   "cell_type": "code",
   "execution_count": null,
   "id": "93adb7b7-eb35-4b91-b010-33eab8a0ddfa",
   "metadata": {},
   "outputs": [],
   "source": []
  },
  {
   "cell_type": "code",
   "execution_count": 7,
   "id": "74d025ff-ea99-4717-bd52-7a34cd801bdd",
   "metadata": {},
   "outputs": [
    {
     "ename": "IndentationError",
     "evalue": "unexpected indent (3359152606.py, line 3)",
     "output_type": "error",
     "traceback": [
      "\u001b[1;36m  Cell \u001b[1;32mIn[7], line 3\u001b[1;36m\u001b[0m\n\u001b[1;33m    for i in exp:\u001b[0m\n\u001b[1;37m    ^\u001b[0m\n\u001b[1;31mIndentationError\u001b[0m\u001b[1;31m:\u001b[0m unexpected indent\n"
     ]
    }
   ],
   "source": [
    "output = \"\"\n",
    "    \n",
    "    for i in exp:\n",
    "        \n",
    "        if self.isOperand(i) == True: # check if operand add to output\n",
    "            print(i,\"~ Operand push to stack\")\n",
    "            output = output + i\n",
    "\n",
    "        # If the character is an '(', push it to stack \n",
    "        elif i  == '(':\n",
    "            self.push(i)\n",
    "            print(i,\" ~ Found ( push into stack\")\n",
    "\n",
    "        elif i == ')':  # if ')' pop till '('\n",
    "            while( self.isempty() != True and self.peek() != '('):\n",
    "                n = self.pop() \n",
    "                output = output + n\n",
    "                print(n, \"~ Operator popped from stack\")\n",
    "            if (self.isempty() != True and self.peek() != '('):\n",
    "                print(\"_________\")\n",
    "                return -1\n",
    "            else:\n",
    "                x = self.pop()\n",
    "                print(x, \"Popping and deleting (\")\n",
    "        else: \n",
    "            while(self.isempty() != True and self.notGreater(i)):\n",
    "                c = self.pop()\n",
    "                output = output + c\n",
    "                print(c,\"Operator popped after checking precedence from stack\")\n",
    "            self.push(i)\n",
    "            print(i,\"Operator pushed to stack\")"
   ]
  },
  {
   "cell_type": "code",
   "execution_count": null,
   "id": "7435eae5-1fd9-4271-8f01-c03b194e9750",
   "metadata": {},
   "outputs": [],
   "source": []
  }
 ],
 "metadata": {
  "kernelspec": {
   "display_name": "Python 3 (ipykernel)",
   "language": "python",
   "name": "python3"
  },
  "language_info": {
   "codemirror_mode": {
    "name": "ipython",
    "version": 3
   },
   "file_extension": ".py",
   "mimetype": "text/x-python",
   "name": "python",
   "nbconvert_exporter": "python",
   "pygments_lexer": "ipython3",
   "version": "3.11.4"
  }
 },
 "nbformat": 4,
 "nbformat_minor": 5
}
