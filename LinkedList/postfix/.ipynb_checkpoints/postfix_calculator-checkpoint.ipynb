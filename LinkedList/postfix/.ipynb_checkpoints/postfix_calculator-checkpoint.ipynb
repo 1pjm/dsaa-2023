{
 "cells": [
  {
   "cell_type": "code",
   "execution_count": 1,
   "id": "edf0cdc2-3b23-4985-8cbc-887bb1eaa5f5",
   "metadata": {},
   "outputs": [],
   "source": [
    "post_fix_data = \"3 5 * 4 +\"\n",
    "elelement_list = post_fix_data.split()"
   ]
  },
  {
   "cell_type": "code",
   "execution_count": 2,
   "id": "185f0692-36ca-4796-b21f-ad4a90907bc5",
   "metadata": {},
   "outputs": [
    {
     "data": {
      "text/plain": [
       "['3', '5', '*', '4', '+']"
      ]
     },
     "execution_count": 2,
     "metadata": {},
     "output_type": "execute_result"
    }
   ],
   "source": [
    "elelement_list"
   ]
  },
  {
   "cell_type": "code",
   "execution_count": 3,
   "id": "f2a57664-98f9-41f8-a971-94bc1a1b9608",
   "metadata": {},
   "outputs": [
    {
     "data": {
      "text/plain": [
       "15"
      ]
     },
     "execution_count": 3,
     "metadata": {},
     "output_type": "execute_result"
    }
   ],
   "source": [
    "# eval(): 파이썬에서 string을 코드로 인식해줌\n",
    "eval('10 + 5')"
   ]
  },
  {
   "cell_type": "code",
   "execution_count": 4,
   "id": "7f3a6446-9daa-4705-95ce-254e62412ff6",
   "metadata": {},
   "outputs": [],
   "source": [
    "postfix_stack = []\n",
    "for element in elelement_list:\n",
    "    if element.isdigit():\n",
    "        postfix_stack.append(element)\n",
    "    else:\n",
    "        val_1 = int(postfix_stack.pop())\n",
    "        val_2 = int(postfix_stack.pop())\n",
    "        result = eval(f\"{val_1} {element} {val_2}\")\n",
    "        postfix_stack.append(result)"
   ]
  },
  {
   "cell_type": "code",
   "execution_count": 5,
   "id": "3d1b6b57-9488-4798-ac3c-9515546cce7a",
   "metadata": {},
   "outputs": [
    {
     "data": {
      "text/plain": [
       "[19]"
      ]
     },
     "execution_count": 5,
     "metadata": {},
     "output_type": "execute_result"
    }
   ],
   "source": [
    "postfix_stack"
   ]
  },
  {
   "cell_type": "code",
   "execution_count": 12,
   "id": "ffeac300-1639-48c9-acf2-0f01f7b41243",
   "metadata": {},
   "outputs": [],
   "source": [
    "def postfix_calculator(postfix_exp : list):\n",
    "    postfix_stack = []\n",
    "    for element in elelement_list:\n",
    "        print(element)\n",
    "        if element.isdigit():\n",
    "            postfix_stack.append(element)\n",
    "        else:\n",
    "            val_2 = int(postfix_stack.pop())\n",
    "            val_1 = int(postfix_stack.pop())\n",
    "            result = eval(f\"{val_1} {element} {val_2}\")\n",
    "            \n",
    "            postfix_stack.append(result)\n",
    "        print(postfix_stack)\n",
    "    return postfix_stack[0]"
   ]
  },
  {
   "cell_type": "code",
   "execution_count": 13,
   "id": "d4d23330-2166-410d-a0ca-c3d49f6ec019",
   "metadata": {},
   "outputs": [
    {
     "name": "stdout",
     "output_type": "stream",
     "text": [
      "5\n",
      "['5']\n",
      "3\n",
      "['5', '3']\n",
      "+\n",
      "[8]\n",
      "8\n",
      "[8, '8']\n",
      "2\n",
      "[8, '8', '2']\n",
      "-\n",
      "[8, 6]\n",
      "*\n",
      "[48]\n"
     ]
    },
    {
     "data": {
      "text/plain": [
       "48"
      ]
     },
     "execution_count": 13,
     "metadata": {},
     "output_type": "execute_result"
    }
   ],
   "source": [
    "post_fix_data = \"5 3 + 8 2 - *\"\n",
    "elelement_list = post_fix_data.split()\n",
    "postfix_calculator(elelement_list)"
   ]
  },
  {
   "cell_type": "code",
   "execution_count": 14,
   "id": "8c816a14-02bf-4332-9f15-e82bc5cb0da6",
   "metadata": {},
   "outputs": [
    {
     "name": "stdout",
     "output_type": "stream",
     "text": [
      "3\n",
      "['3']\n",
      "5\n",
      "['3', '5']\n",
      "*\n",
      "[15]\n",
      "4\n",
      "[15, '4']\n",
      "+\n",
      "[19]\n"
     ]
    },
    {
     "data": {
      "text/plain": [
       "19"
      ]
     },
     "execution_count": 14,
     "metadata": {},
     "output_type": "execute_result"
    }
   ],
   "source": [
    "post_fix_data = \"3 5 * 4 +\"\n",
    "elelement_list = post_fix_data.split()\n",
    "postfix_calculator(elelement_list)"
   ]
  },
  {
   "cell_type": "code",
   "execution_count": 15,
   "id": "ba4ab5ae-d57e-495f-a6ad-865056b25515",
   "metadata": {},
   "outputs": [
    {
     "name": "stdout",
     "output_type": "stream",
     "text": [
      "10\n",
      "['10']\n",
      "2\n",
      "['10', '2']\n",
      "8\n",
      "['10', '2', '8']\n",
      "*\n",
      "['10', 16]\n",
      "+\n",
      "[26]\n",
      "3\n",
      "[26, '3']\n",
      "-\n",
      "[23]\n"
     ]
    },
    {
     "data": {
      "text/plain": [
       "23"
      ]
     },
     "execution_count": 15,
     "metadata": {},
     "output_type": "execute_result"
    }
   ],
   "source": [
    "post_fix_data = \"10 2 8 * + 3 -\"\n",
    "elelement_list = post_fix_data.split()\n",
    "postfix_calculator(elelement_list)"
   ]
  }
 ],
 "metadata": {
  "kernelspec": {
   "display_name": "Python 3 (ipykernel)",
   "language": "python",
   "name": "python3"
  },
  "language_info": {
   "codemirror_mode": {
    "name": "ipython",
    "version": 3
   },
   "file_extension": ".py",
   "mimetype": "text/x-python",
   "name": "python",
   "nbconvert_exporter": "python",
   "pygments_lexer": "ipython3",
   "version": "3.11.4"
  }
 },
 "nbformat": 4,
 "nbformat_minor": 5
}
